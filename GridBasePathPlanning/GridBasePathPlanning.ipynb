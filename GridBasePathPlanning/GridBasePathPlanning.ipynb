{
 "cells": [
  {
   "cell_type": "code",
   "execution_count": 1,
   "id": "9f99b8f5",
   "metadata": {},
   "outputs": [],
   "source": [
    "import matplotlib\n",
    "matplotlib.use('nbagg')\n",
    "import matplotlib.animation as anm\n",
    "import matplotlib.pyplot as plt\n",
    "import matplotlib.patches as patches\n",
    "import numpy as np\n",
    "import warnings"
   ]
  },
  {
   "cell_type": "code",
   "execution_count": 2,
   "id": "17a5b337",
   "metadata": {
    "code_folding": []
   },
   "outputs": [],
   "source": [
    "class GridBasePathPlanning():\n",
    "    def __init__(self, world, grid_size_ratio=1):\n",
    "        self.world = world\n",
    "        self.grid_size_ratio = grid_size_ratio\n",
    "        self.grid_cost_num = self.world.grid_num / self.grid_size_ratio\n",
    "        if not self.grid_cost_num[0].is_integer() or not self.grid_cost_num[1].is_integer():\n",
    "            warnings.warn(\"World's grid map and DstarLite's grid cost map are incompatible\")\n",
    "        self.grid_cost_num = self.grid_cost_num.astype('int8')\n",
    "    \n",
    "    def drawCostSizeGrid(self, index, color, alpha, ax, fill=True, elems=None):\n",
    "        xy = index * self.world.grid_step * self.grid_size_ratio\n",
    "        r = patches.Rectangle(\n",
    "            xy=(xy),\n",
    "            height=self.world.grid_step[0] * self.grid_size_ratio,\n",
    "            width=self.world.grid_step[1] * self.grid_size_ratio,\n",
    "            color=color,\n",
    "            alpha=alpha,\n",
    "            fill=fill\n",
    "        )\n",
    "        if elems is not None:\n",
    "            elems.append(ax.add_patch(r))\n",
    "        else:\n",
    "            ax.add_patch(r)\n",
    "            \n",
    "    def indexWorldToCost(self, index):\n",
    "        return np.array(index) // self.grid_size_ratio\n",
    "    \n",
    "    def indexCostToWorld(self, index):\n",
    "        return np.array(index) * self.grid_size_ratio\n",
    "    \n",
    "    def isCostGridOutOfBounds(self, index):\n",
    "        if np.any(index >= self.grid_cost_num) or np.any(index < [0, 0]):\n",
    "            return True\n",
    "        else:\n",
    "            return False\n",
    "    \n",
    "    def hasStart(self, index):\n",
    "        index = self.indexCostToWorld(index)\n",
    "        for i in range(self.grid_size_ratio):\n",
    "            for j in range(self.grid_size_ratio):\n",
    "                if self.world.isStart([index[0]+i, index[1]+j]):\n",
    "                    return True\n",
    "        return False\n",
    "    \n",
    "    def hasGoal(self, index):\n",
    "        index = self.indexCostToWorld(index)\n",
    "        for i in range(self.grid_size_ratio):\n",
    "            for j in range(self.grid_size_ratio):\n",
    "                if self.world.isGoal([index[0]+i, index[1]+j]):\n",
    "                    return True\n",
    "        return False\n",
    "    \n",
    "    def hasObstacle(self, index):\n",
    "        if np.any(index >= self.grid_cost_num) or np.any(index < [0, 0]):\n",
    "            return True\n",
    "        index = self.indexCostToWorld(index)\n",
    "        for i in range(self.grid_size_ratio):\n",
    "            for j in range(self.grid_size_ratio):\n",
    "                if self.world.isObstacle([index[0]+i, index[1]+j]):\n",
    "                    return True\n",
    "        return False"
   ]
  },
  {
   "cell_type": "code",
   "execution_count": 3,
   "id": "e0e9bac1",
   "metadata": {},
   "outputs": [],
   "source": [
    "class PathNotCalculatedError(Exception):\n",
    "    pass"
   ]
  }
 ],
 "metadata": {
  "kernelspec": {
   "display_name": "Python 3",
   "language": "python",
   "name": "python3"
  },
  "language_info": {
   "codemirror_mode": {
    "name": "ipython",
    "version": 3
   },
   "file_extension": ".py",
   "mimetype": "text/x-python",
   "name": "python",
   "nbconvert_exporter": "python",
   "pygments_lexer": "ipython3",
   "version": "3.7.10"
  }
 },
 "nbformat": 4,
 "nbformat_minor": 5
}
